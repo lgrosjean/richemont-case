{
 "cells": [
  {
   "cell_type": "code",
   "execution_count": 1,
   "metadata": {},
   "outputs": [],
   "source": [
    "%load_ext google.cloud.bigquery\n",
    "%config InlineBackend.figure_format = \"retina\" # nice looking plots"
   ]
  },
  {
   "cell_type": "code",
   "execution_count": 3,
   "metadata": {
    "vscode": {
     "languageId": "sql"
    }
   },
   "outputs": [
    {
     "data": {
      "application/vnd.jupyter.widget-view+json": {
       "model_id": "a4ab291f5cf44d15875ac0c402a4fc30",
       "version_major": 2,
       "version_minor": 0
      },
      "text/plain": [
       "Query is running:   0%|          |"
      ]
     },
     "metadata": {},
     "output_type": "display_data"
    },
    {
     "data": {
      "text/html": [
       "<div>\n",
       "<style scoped>\n",
       "    .dataframe tbody tr th:only-of-type {\n",
       "        vertical-align: middle;\n",
       "    }\n",
       "\n",
       "    .dataframe tbody tr th {\n",
       "        vertical-align: top;\n",
       "    }\n",
       "\n",
       "    .dataframe thead th {\n",
       "        text-align: right;\n",
       "    }\n",
       "</style>\n",
       "<table border=\"1\" class=\"dataframe\">\n",
       "  <thead>\n",
       "    <tr style=\"text-align: right;\">\n",
       "      <th></th>\n",
       "    </tr>\n",
       "  </thead>\n",
       "  <tbody>\n",
       "  </tbody>\n",
       "</table>\n",
       "</div>"
      ],
      "text/plain": [
       "Empty DataFrame\n",
       "Columns: []\n",
       "Index: []"
      ]
     },
     "execution_count": 3,
     "metadata": {},
     "output_type": "execute_result"
    }
   ],
   "source": [
    "%%bigquery\n",
    "CREATE TABLE IF NOT EXISTS richemont.orders AS (\n",
    "    SELECT\n",
    "        client_id,\n",
    "        DATE(transaction_date) AS transaction_at,\n",
    "        SUM(price_full) AS total_price,\n",
    "        COUNT(product_collection) AS quantity,\n",
    "    FROM richemont.orders_raw\n",
    "    GROUP BY 1, 2\n",
    ")"
   ]
  },
  {
   "cell_type": "code",
   "execution_count": 4,
   "metadata": {},
   "outputs": [
    {
     "data": {
      "application/vnd.jupyter.widget-view+json": {
       "model_id": "ce53e0ffaf8d43e2a93b71bc420cb344",
       "version_major": 2,
       "version_minor": 0
      },
      "text/plain": [
       "Query is running:   0%|          |"
      ]
     },
     "metadata": {},
     "output_type": "display_data"
    },
    {
     "data": {
      "application/vnd.jupyter.widget-view+json": {
       "model_id": "afc5b1a9d06a409e816f99c9e0782cb8",
       "version_major": 2,
       "version_minor": 0
      },
      "text/plain": [
       "Downloading:   0%|          |"
      ]
     },
     "metadata": {},
     "output_type": "display_data"
    },
    {
     "data": {
      "text/html": [
       "<div>\n",
       "<style scoped>\n",
       "    .dataframe tbody tr th:only-of-type {\n",
       "        vertical-align: middle;\n",
       "    }\n",
       "\n",
       "    .dataframe tbody tr th {\n",
       "        vertical-align: top;\n",
       "    }\n",
       "\n",
       "    .dataframe thead th {\n",
       "        text-align: right;\n",
       "    }\n",
       "</style>\n",
       "<table border=\"1\" class=\"dataframe\">\n",
       "  <thead>\n",
       "    <tr style=\"text-align: right;\">\n",
       "      <th></th>\n",
       "      <th>client_id</th>\n",
       "      <th>transaction_at</th>\n",
       "      <th>total_price</th>\n",
       "      <th>quantity</th>\n",
       "    </tr>\n",
       "  </thead>\n",
       "  <tbody>\n",
       "    <tr>\n",
       "      <th>0</th>\n",
       "      <td>0011i00000nKQBmAAO</td>\n",
       "      <td>2015-07-24</td>\n",
       "      <td>144921.348469</td>\n",
       "      <td>1</td>\n",
       "    </tr>\n",
       "    <tr>\n",
       "      <th>1</th>\n",
       "      <td>0011i00000SyXWzAAR</td>\n",
       "      <td>2015-07-24</td>\n",
       "      <td>16328.631212</td>\n",
       "      <td>1</td>\n",
       "    </tr>\n",
       "    <tr>\n",
       "      <th>2</th>\n",
       "      <td>0011i00000YQ3gyAAD</td>\n",
       "      <td>2015-07-24</td>\n",
       "      <td>5087.757240</td>\n",
       "      <td>1</td>\n",
       "    </tr>\n",
       "    <tr>\n",
       "      <th>3</th>\n",
       "      <td>0011i00000nKc32AAH</td>\n",
       "      <td>2015-07-24</td>\n",
       "      <td>6719.017469</td>\n",
       "      <td>1</td>\n",
       "    </tr>\n",
       "    <tr>\n",
       "      <th>4</th>\n",
       "      <td>0011i00000ngUQuAAM</td>\n",
       "      <td>2015-07-24</td>\n",
       "      <td>5962.338662</td>\n",
       "      <td>1</td>\n",
       "    </tr>\n",
       "    <tr>\n",
       "      <th>5</th>\n",
       "      <td>0011i00000nJm1uAAH</td>\n",
       "      <td>2015-07-24</td>\n",
       "      <td>6431.062737</td>\n",
       "      <td>1</td>\n",
       "    </tr>\n",
       "    <tr>\n",
       "      <th>6</th>\n",
       "      <td>0011i00000YTroxAAD</td>\n",
       "      <td>2015-07-24</td>\n",
       "      <td>6631.086809</td>\n",
       "      <td>1</td>\n",
       "    </tr>\n",
       "    <tr>\n",
       "      <th>7</th>\n",
       "      <td>0011i00000nKc38AAH</td>\n",
       "      <td>2015-07-24</td>\n",
       "      <td>6954.251936</td>\n",
       "      <td>1</td>\n",
       "    </tr>\n",
       "    <tr>\n",
       "      <th>8</th>\n",
       "      <td>0011i00000SybscAAB</td>\n",
       "      <td>2015-07-24</td>\n",
       "      <td>13548.520868</td>\n",
       "      <td>1</td>\n",
       "    </tr>\n",
       "    <tr>\n",
       "      <th>9</th>\n",
       "      <td>0011i00000YQ1HSAA1</td>\n",
       "      <td>2015-07-24</td>\n",
       "      <td>5099.586288</td>\n",
       "      <td>1</td>\n",
       "    </tr>\n",
       "  </tbody>\n",
       "</table>\n",
       "</div>"
      ],
      "text/plain": [
       "            client_id transaction_at    total_price  quantity\n",
       "0  0011i00000nKQBmAAO     2015-07-24  144921.348469         1\n",
       "1  0011i00000SyXWzAAR     2015-07-24   16328.631212         1\n",
       "2  0011i00000YQ3gyAAD     2015-07-24    5087.757240         1\n",
       "3  0011i00000nKc32AAH     2015-07-24    6719.017469         1\n",
       "4  0011i00000ngUQuAAM     2015-07-24    5962.338662         1\n",
       "5  0011i00000nJm1uAAH     2015-07-24    6431.062737         1\n",
       "6  0011i00000YTroxAAD     2015-07-24    6631.086809         1\n",
       "7  0011i00000nKc38AAH     2015-07-24    6954.251936         1\n",
       "8  0011i00000SybscAAB     2015-07-24   13548.520868         1\n",
       "9  0011i00000YQ1HSAA1     2015-07-24    5099.586288         1"
      ]
     },
     "execution_count": 4,
     "metadata": {},
     "output_type": "execute_result"
    }
   ],
   "source": [
    "%%bigquery\n",
    "SELECT * FROM richemont.orders\n",
    "LIMIT 10"
   ]
  },
  {
   "cell_type": "markdown",
   "metadata": {},
   "source": [
    "## RFM\n",
    "\n",
    "Source: \n",
    "- https://lifetimes.readthedocs.io/en/latest/More%20examples%20and%20recipes.html\n",
    "\n",
    "Definitions:\n",
    "- `frequency` represents the number of repeat purchases the customer has made.\n",
    "- `T` represents the age of the customer in whatever time units chosen. This is equal to the duration between a customer’s first purchase and the end of the period under study.\n",
    "- `recency` represents the age of the customer when they made their most recent purchases. This is equal to the duration between a customer’s first purchase and their latest purchase. (Thus if they have made only 1 purchase, the recency is 0.)"
   ]
  },
  {
   "cell_type": "code",
   "execution_count": 5,
   "metadata": {},
   "outputs": [
    {
     "data": {
      "application/vnd.jupyter.widget-view+json": {
       "model_id": "fdabc14f2f2b49aeafbc553932cde8c7",
       "version_major": 2,
       "version_minor": 0
      },
      "text/plain": [
       "Query is running:   0%|          |"
      ]
     },
     "metadata": {},
     "output_type": "display_data"
    },
    {
     "data": {
      "text/html": [
       "<div>\n",
       "<style scoped>\n",
       "    .dataframe tbody tr th:only-of-type {\n",
       "        vertical-align: middle;\n",
       "    }\n",
       "\n",
       "    .dataframe tbody tr th {\n",
       "        vertical-align: top;\n",
       "    }\n",
       "\n",
       "    .dataframe thead th {\n",
       "        text-align: right;\n",
       "    }\n",
       "</style>\n",
       "<table border=\"1\" class=\"dataframe\">\n",
       "  <thead>\n",
       "    <tr style=\"text-align: right;\">\n",
       "      <th></th>\n",
       "    </tr>\n",
       "  </thead>\n",
       "  <tbody>\n",
       "  </tbody>\n",
       "</table>\n",
       "</div>"
      ],
      "text/plain": [
       "Empty DataFrame\n",
       "Columns: []\n",
       "Index: []"
      ]
     },
     "execution_count": 5,
     "metadata": {},
     "output_type": "execute_result"
    }
   ],
   "source": [
    "%%bigquery\n",
    "CREATE OR REPLACE TABLE `richemont.rfm` AS (\n",
    "WITH\n",
    "max_date AS (\n",
    "  SELECT MAX(transaction_at) AS max_date_\n",
    "  FROM richemont.orders\n",
    ")\n",
    "\n",
    "SELECT\n",
    "\n",
    "  client_id,\n",
    "  COUNT(DISTINCT DATE(transaction_at)) - 1 as frequency,\n",
    "  DATE_DIFF(MAX(transaction_at), MIN(transaction_at), DAY) as recency,\n",
    "  AVG(total_price) as monetary_value,\n",
    "  DATE_DIFF(max_date.max_date_, MIN(transaction_at), DAY) as T\n",
    "\n",
    "FROM richemont.orders, max_date\n",
    "\n",
    "GROUP BY client_id, max_date_\n",
    ")"
   ]
  },
  {
   "cell_type": "code",
   "execution_count": 6,
   "metadata": {},
   "outputs": [
    {
     "data": {
      "application/vnd.jupyter.widget-view+json": {
       "model_id": "811ffc0bddc54e1a806878ee1f11f8d1",
       "version_major": 2,
       "version_minor": 0
      },
      "text/plain": [
       "Query is running:   0%|          |"
      ]
     },
     "metadata": {},
     "output_type": "display_data"
    },
    {
     "data": {
      "application/vnd.jupyter.widget-view+json": {
       "model_id": "7be83824caf041a4ae4fd3782ecd5d7a",
       "version_major": 2,
       "version_minor": 0
      },
      "text/plain": [
       "Downloading:   0%|          |"
      ]
     },
     "metadata": {},
     "output_type": "display_data"
    }
   ],
   "source": [
    "%%bigquery rfm\n",
    "SELECT * FROM `richemont.rfm`"
   ]
  },
  {
   "cell_type": "code",
   "execution_count": 16,
   "metadata": {},
   "outputs": [
    {
     "data": {
      "text/html": [
       "<div>\n",
       "<style scoped>\n",
       "    .dataframe tbody tr th:only-of-type {\n",
       "        vertical-align: middle;\n",
       "    }\n",
       "\n",
       "    .dataframe tbody tr th {\n",
       "        vertical-align: top;\n",
       "    }\n",
       "\n",
       "    .dataframe thead th {\n",
       "        text-align: right;\n",
       "    }\n",
       "</style>\n",
       "<table border=\"1\" class=\"dataframe\">\n",
       "  <thead>\n",
       "    <tr style=\"text-align: right;\">\n",
       "      <th></th>\n",
       "      <th>client_id</th>\n",
       "      <th>frequency</th>\n",
       "      <th>recency</th>\n",
       "      <th>monetary_value</th>\n",
       "      <th>T</th>\n",
       "    </tr>\n",
       "  </thead>\n",
       "  <tbody>\n",
       "    <tr>\n",
       "      <th>0</th>\n",
       "      <td>0011i00000YQ1FLAA1</td>\n",
       "      <td>0</td>\n",
       "      <td>0</td>\n",
       "      <td>22028.856829</td>\n",
       "      <td>891</td>\n",
       "    </tr>\n",
       "    <tr>\n",
       "      <th>1</th>\n",
       "      <td>0011i00000S5sEAAAZ</td>\n",
       "      <td>0</td>\n",
       "      <td>0</td>\n",
       "      <td>10629.754096</td>\n",
       "      <td>891</td>\n",
       "    </tr>\n",
       "    <tr>\n",
       "      <th>2</th>\n",
       "      <td>0011i00000YQ1G5AAL</td>\n",
       "      <td>0</td>\n",
       "      <td>0</td>\n",
       "      <td>26342.052719</td>\n",
       "      <td>891</td>\n",
       "    </tr>\n",
       "    <tr>\n",
       "      <th>3</th>\n",
       "      <td>0011i00000YQ2TyAAL</td>\n",
       "      <td>0</td>\n",
       "      <td>0</td>\n",
       "      <td>5388.589400</td>\n",
       "      <td>891</td>\n",
       "    </tr>\n",
       "    <tr>\n",
       "      <th>4</th>\n",
       "      <td>0011i00000nK955AAH</td>\n",
       "      <td>1</td>\n",
       "      <td>184</td>\n",
       "      <td>17130.019921</td>\n",
       "      <td>891</td>\n",
       "    </tr>\n",
       "  </tbody>\n",
       "</table>\n",
       "</div>"
      ],
      "text/plain": [
       "            client_id  frequency  recency  monetary_value    T\n",
       "0  0011i00000YQ1FLAA1          0        0    22028.856829  891\n",
       "1  0011i00000S5sEAAAZ          0        0    10629.754096  891\n",
       "2  0011i00000YQ1G5AAL          0        0    26342.052719  891\n",
       "3  0011i00000YQ2TyAAL          0        0     5388.589400  891\n",
       "4  0011i00000nK955AAH          1      184    17130.019921  891"
      ]
     },
     "execution_count": 16,
     "metadata": {},
     "output_type": "execute_result"
    }
   ],
   "source": [
    "rfm.head()"
   ]
  },
  {
   "cell_type": "code",
   "execution_count": 42,
   "metadata": {},
   "outputs": [
    {
     "data": {
      "text/plain": [
       "frequency\n",
       "0     50088\n",
       "1      2083\n",
       "2       360\n",
       "3       119\n",
       "4        68\n",
       "5        42\n",
       "6        19\n",
       "7        23\n",
       "8         9\n",
       "9        15\n",
       "10        9\n",
       "11        6\n",
       "12        4\n",
       "13        1\n",
       "14        3\n",
       "16        1\n",
       "17        1\n",
       "18        2\n",
       "20        1\n",
       "21        1\n",
       "Name: client_id, dtype: int64"
      ]
     },
     "execution_count": 42,
     "metadata": {},
     "output_type": "execute_result"
    }
   ],
   "source": [
    "rfm.groupby('frequency').client_id.count()"
   ]
  },
  {
   "cell_type": "code",
   "execution_count": 44,
   "metadata": {},
   "outputs": [
    {
     "data": {
      "text/html": [
       "<div>\n",
       "<style scoped>\n",
       "    .dataframe tbody tr th:only-of-type {\n",
       "        vertical-align: middle;\n",
       "    }\n",
       "\n",
       "    .dataframe tbody tr th {\n",
       "        vertical-align: top;\n",
       "    }\n",
       "\n",
       "    .dataframe thead th {\n",
       "        text-align: right;\n",
       "    }\n",
       "</style>\n",
       "<table border=\"1\" class=\"dataframe\">\n",
       "  <thead>\n",
       "    <tr style=\"text-align: right;\">\n",
       "      <th></th>\n",
       "      <th>client_id</th>\n",
       "      <th>frequency</th>\n",
       "      <th>recency</th>\n",
       "      <th>monetary_value</th>\n",
       "      <th>T</th>\n",
       "    </tr>\n",
       "  </thead>\n",
       "  <tbody>\n",
       "    <tr>\n",
       "      <th>1063</th>\n",
       "      <td>0011i00000nLPKSAA4</td>\n",
       "      <td>21</td>\n",
       "      <td>734</td>\n",
       "      <td>18555.343688</td>\n",
       "      <td>805</td>\n",
       "    </tr>\n",
       "  </tbody>\n",
       "</table>\n",
       "</div>"
      ],
      "text/plain": [
       "               client_id  frequency  recency  monetary_value    T\n",
       "1063  0011i00000nLPKSAA4         21      734    18555.343688  805"
      ]
     },
     "execution_count": 44,
     "metadata": {},
     "output_type": "execute_result"
    }
   ],
   "source": [
    "rfm[rfm.frequency == 21]"
   ]
  },
  {
   "cell_type": "code",
   "execution_count": 46,
   "metadata": {},
   "outputs": [
    {
     "data": {
      "text/plain": [
       "count    5.285500e+04\n",
       "mean     1.073301e+04\n",
       "std      1.371237e+04\n",
       "min      1.184189e+03\n",
       "25%      5.859495e+03\n",
       "50%      8.105911e+03\n",
       "75%      1.202013e+04\n",
       "max      1.442532e+06\n",
       "Name: monetary_value, dtype: float64"
      ]
     },
     "execution_count": 46,
     "metadata": {},
     "output_type": "execute_result"
    }
   ],
   "source": [
    "rfm[\"monetary_value\"].describe()"
   ]
  },
  {
   "cell_type": "code",
   "execution_count": 36,
   "metadata": {},
   "outputs": [
    {
     "data": {
      "text/plain": [
       "<Axes: ylabel='Frequency'>"
      ]
     },
     "execution_count": 36,
     "metadata": {},
     "output_type": "execute_result"
    },
    {
     "data": {
      "image/png": "[encoded data removed]",
      "text/plain": [
       "<Figure size 640x480 with 1 Axes>"
      ]
     },
     "metadata": {
      "image/png": {
       "height": 413,
       "width": 580
      }
     },
     "output_type": "display_data"
    }
   ],
   "source": [
    "rfm[\"T\"].plot(kind='hist')"
   ]
  },
  {
   "cell_type": "markdown",
   "metadata": {},
   "source": [
    "## Repurchase Rate"
   ]
  },
  {
   "cell_type": "code",
   "execution_count": 31,
   "metadata": {},
   "outputs": [
    {
     "data": {
      "text/plain": [
       "has_repurchased\n",
       "False    94.764923\n",
       "True      5.235077\n",
       "Name: proportion, dtype: Float64"
      ]
     },
     "execution_count": 31,
     "metadata": {},
     "output_type": "execute_result"
    }
   ],
   "source": [
    "(\n",
    "    rfm\n",
    "    .assign(has_repurchased=lambda x: x.frequency > 0)\n",
    "    ['has_repurchased']\n",
    "    .value_counts(normalize=True) * 100\n",
    ")"
   ]
  },
  {
   "cell_type": "markdown",
   "metadata": {},
   "source": [
    "Only 5% of the customers have repurchased."
   ]
  },
  {
   "cell_type": "markdown",
   "metadata": {},
   "source": []
  }
 ],
 "metadata": {
  "kernelspec": {
   "display_name": ".venv",
   "language": "python",
   "name": "python3"
  },
  "language_info": {
   "codemirror_mode": {
    "name": "ipython",
    "version": 3
   },
   "file_extension": ".py",
   "mimetype": "text/x-python",
   "name": "python",
   "nbconvert_exporter": "python",
   "pygments_lexer": "ipython3",
   "version": "3.10.2"
  },
  "orig_nbformat": 4
 },
 "nbformat": 4,
 "nbformat_minor": 2
}
