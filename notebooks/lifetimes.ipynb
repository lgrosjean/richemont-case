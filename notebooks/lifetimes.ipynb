{
 "cells": [
  {
   "cell_type": "markdown",
   "metadata": {},
   "source": [
    "Source:\n",
    "- https://lifetimes.readthedocs.io/en/latest/Quickstart.html"
   ]
  },
  {
   "cell_type": "code",
   "execution_count": 1,
   "metadata": {},
   "outputs": [],
   "source": [
    "import os\n",
    "\n",
    "PROJECT_ID = os.getenv(\"GCP_PROJECT_ID\")"
   ]
  },
  {
   "cell_type": "code",
   "execution_count": 2,
   "metadata": {},
   "outputs": [
    {
     "name": "stdout",
     "output_type": "stream",
     "text": [
      "Requirement already satisfied: lifetimes in /Users/leogrosjean/git/richemont-case/.venv/lib/python3.10/site-packages (0.11.3)\n",
      "Requirement already satisfied: pandas-gbq in /Users/leogrosjean/git/richemont-case/.venv/lib/python3.10/site-packages (0.22.0)\n",
      "Requirement already satisfied: seaborn in /Users/leogrosjean/git/richemont-case/.venv/lib/python3.10/site-packages (0.13.2)\n",
      "Requirement already satisfied: numpy>=1.10.0 in /Users/leogrosjean/git/richemont-case/.venv/lib/python3.10/site-packages (from lifetimes) (1.26.4)\n",
      "Requirement already satisfied: scipy>=1.0.0 in /Users/leogrosjean/git/richemont-case/.venv/lib/python3.10/site-packages (from lifetimes) (1.12.0)\n",
      "Requirement already satisfied: pandas>=0.24.0 in /Users/leogrosjean/git/richemont-case/.venv/lib/python3.10/site-packages (from lifetimes) (2.1.3)\n",
      "Requirement already satisfied: autograd>=1.2.0 in /Users/leogrosjean/git/richemont-case/.venv/lib/python3.10/site-packages (from lifetimes) (1.6.2)\n",
      "Requirement already satisfied: dill>=0.2.6 in /Users/leogrosjean/git/richemont-case/.venv/lib/python3.10/site-packages (from lifetimes) (0.3.8)\n",
      "Requirement already satisfied: setuptools in /Users/leogrosjean/git/richemont-case/.venv/lib/python3.10/site-packages (from pandas-gbq) (58.1.0)\n",
      "Requirement already satisfied: db-dtypes<2.0.0,>=1.0.4 in /Users/leogrosjean/git/richemont-case/.venv/lib/python3.10/site-packages (from pandas-gbq) (1.2.0)\n",
      "Requirement already satisfied: pyarrow>=3.0.0 in /Users/leogrosjean/git/richemont-case/.venv/lib/python3.10/site-packages (from pandas-gbq) (15.0.1)\n",
      "Requirement already satisfied: pydata-google-auth>=1.5.0 in /Users/leogrosjean/git/richemont-case/.venv/lib/python3.10/site-packages (from pandas-gbq) (1.8.2)\n",
      "Requirement already satisfied: google-api-core<3.0.0dev,>=2.10.2 in /Users/leogrosjean/git/richemont-case/.venv/lib/python3.10/site-packages (from pandas-gbq) (2.17.1)\n",
      "Requirement already satisfied: google-auth>=2.13.0 in /Users/leogrosjean/git/richemont-case/.venv/lib/python3.10/site-packages (from pandas-gbq) (2.28.2)\n",
      "Requirement already satisfied: google-auth-oauthlib>=0.7.0 in /Users/leogrosjean/git/richemont-case/.venv/lib/python3.10/site-packages (from pandas-gbq) (1.2.0)\n",
      "Requirement already satisfied: google-cloud-bigquery<4.0.0dev,>=3.3.5 in /Users/leogrosjean/git/richemont-case/.venv/lib/python3.10/site-packages (from pandas-gbq) (3.18.0)\n",
      "Requirement already satisfied: packaging>=20.0.0 in /Users/leogrosjean/git/richemont-case/.venv/lib/python3.10/site-packages (from pandas-gbq) (23.2)\n",
      "Requirement already satisfied: matplotlib!=3.6.1,>=3.4 in /Users/leogrosjean/git/richemont-case/.venv/lib/python3.10/site-packages (from seaborn) (3.8.3)\n",
      "Requirement already satisfied: future>=0.15.2 in /Users/leogrosjean/git/richemont-case/.venv/lib/python3.10/site-packages (from autograd>=1.2.0->lifetimes) (1.0.0)\n",
      "Requirement already satisfied: googleapis-common-protos<2.0.dev0,>=1.56.2 in /Users/leogrosjean/git/richemont-case/.venv/lib/python3.10/site-packages (from google-api-core<3.0.0dev,>=2.10.2->pandas-gbq) (1.62.0)\n",
      "Requirement already satisfied: protobuf!=3.20.0,!=3.20.1,!=4.21.0,!=4.21.1,!=4.21.2,!=4.21.3,!=4.21.4,!=4.21.5,<5.0.0.dev0,>=3.19.5 in /Users/leogrosjean/git/richemont-case/.venv/lib/python3.10/site-packages (from google-api-core<3.0.0dev,>=2.10.2->pandas-gbq) (4.25.3)\n",
      "Requirement already satisfied: requests<3.0.0.dev0,>=2.18.0 in /Users/leogrosjean/git/richemont-case/.venv/lib/python3.10/site-packages (from google-api-core<3.0.0dev,>=2.10.2->pandas-gbq) (2.31.0)\n",
      "Requirement already satisfied: cachetools<6.0,>=2.0.0 in /Users/leogrosjean/git/richemont-case/.venv/lib/python3.10/site-packages (from google-auth>=2.13.0->pandas-gbq) (5.3.3)\n",
      "Requirement already satisfied: pyasn1-modules>=0.2.1 in /Users/leogrosjean/git/richemont-case/.venv/lib/python3.10/site-packages (from google-auth>=2.13.0->pandas-gbq) (0.3.0)\n",
      "Requirement already satisfied: rsa<5,>=3.1.4 in /Users/leogrosjean/git/richemont-case/.venv/lib/python3.10/site-packages (from google-auth>=2.13.0->pandas-gbq) (4.9)\n",
      "Requirement already satisfied: requests-oauthlib>=0.7.0 in /Users/leogrosjean/git/richemont-case/.venv/lib/python3.10/site-packages (from google-auth-oauthlib>=0.7.0->pandas-gbq) (1.3.1)\n",
      "Requirement already satisfied: google-cloud-core<3.0.0dev,>=1.6.0 in /Users/leogrosjean/git/richemont-case/.venv/lib/python3.10/site-packages (from google-cloud-bigquery<4.0.0dev,>=3.3.5->pandas-gbq) (2.4.1)\n",
      "Requirement already satisfied: google-resumable-media<3.0dev,>=0.6.0 in /Users/leogrosjean/git/richemont-case/.venv/lib/python3.10/site-packages (from google-cloud-bigquery<4.0.0dev,>=3.3.5->pandas-gbq) (2.7.0)\n",
      "Requirement already satisfied: python-dateutil<3.0dev,>=2.7.2 in /Users/leogrosjean/git/richemont-case/.venv/lib/python3.10/site-packages (from google-cloud-bigquery<4.0.0dev,>=3.3.5->pandas-gbq) (2.9.0.post0)\n",
      "Requirement already satisfied: contourpy>=1.0.1 in /Users/leogrosjean/git/richemont-case/.venv/lib/python3.10/site-packages (from matplotlib!=3.6.1,>=3.4->seaborn) (1.2.0)\n",
      "Requirement already satisfied: cycler>=0.10 in /Users/leogrosjean/git/richemont-case/.venv/lib/python3.10/site-packages (from matplotlib!=3.6.1,>=3.4->seaborn) (0.12.1)\n",
      "Requirement already satisfied: fonttools>=4.22.0 in /Users/leogrosjean/git/richemont-case/.venv/lib/python3.10/site-packages (from matplotlib!=3.6.1,>=3.4->seaborn) (4.49.0)\n",
      "Requirement already satisfied: kiwisolver>=1.3.1 in /Users/leogrosjean/git/richemont-case/.venv/lib/python3.10/site-packages (from matplotlib!=3.6.1,>=3.4->seaborn) (1.4.5)\n",
      "Requirement already satisfied: pillow>=8 in /Users/leogrosjean/git/richemont-case/.venv/lib/python3.10/site-packages (from matplotlib!=3.6.1,>=3.4->seaborn) (10.2.0)\n",
      "Requirement already satisfied: pyparsing>=2.3.1 in /Users/leogrosjean/git/richemont-case/.venv/lib/python3.10/site-packages (from matplotlib!=3.6.1,>=3.4->seaborn) (3.1.2)\n",
      "Requirement already satisfied: pytz>=2020.1 in /Users/leogrosjean/git/richemont-case/.venv/lib/python3.10/site-packages (from pandas>=0.24.0->lifetimes) (2024.1)\n",
      "Requirement already satisfied: tzdata>=2022.1 in /Users/leogrosjean/git/richemont-case/.venv/lib/python3.10/site-packages (from pandas>=0.24.0->lifetimes) (2024.1)\n",
      "Requirement already satisfied: google-crc32c<2.0dev,>=1.0 in /Users/leogrosjean/git/richemont-case/.venv/lib/python3.10/site-packages (from google-resumable-media<3.0dev,>=0.6.0->google-cloud-bigquery<4.0.0dev,>=3.3.5->pandas-gbq) (1.5.0)\n",
      "Requirement already satisfied: pyasn1<0.6.0,>=0.4.6 in /Users/leogrosjean/git/richemont-case/.venv/lib/python3.10/site-packages (from pyasn1-modules>=0.2.1->google-auth>=2.13.0->pandas-gbq) (0.5.1)\n",
      "Requirement already satisfied: six>=1.5 in /Users/leogrosjean/git/richemont-case/.venv/lib/python3.10/site-packages (from python-dateutil<3.0dev,>=2.7.2->google-cloud-bigquery<4.0.0dev,>=3.3.5->pandas-gbq) (1.16.0)\n",
      "Requirement already satisfied: charset-normalizer<4,>=2 in /Users/leogrosjean/git/richemont-case/.venv/lib/python3.10/site-packages (from requests<3.0.0.dev0,>=2.18.0->google-api-core<3.0.0dev,>=2.10.2->pandas-gbq) (3.3.2)\n",
      "Requirement already satisfied: idna<4,>=2.5 in /Users/leogrosjean/git/richemont-case/.venv/lib/python3.10/site-packages (from requests<3.0.0.dev0,>=2.18.0->google-api-core<3.0.0dev,>=2.10.2->pandas-gbq) (3.6)\n",
      "Requirement already satisfied: urllib3<3,>=1.21.1 in /Users/leogrosjean/git/richemont-case/.venv/lib/python3.10/site-packages (from requests<3.0.0.dev0,>=2.18.0->google-api-core<3.0.0dev,>=2.10.2->pandas-gbq) (2.2.1)\n",
      "Requirement already satisfied: certifi>=2017.4.17 in /Users/leogrosjean/git/richemont-case/.venv/lib/python3.10/site-packages (from requests<3.0.0.dev0,>=2.18.0->google-api-core<3.0.0dev,>=2.10.2->pandas-gbq) (2024.2.2)\n",
      "Requirement already satisfied: oauthlib>=3.0.0 in /Users/leogrosjean/git/richemont-case/.venv/lib/python3.10/site-packages (from requests-oauthlib>=0.7.0->google-auth-oauthlib>=0.7.0->pandas-gbq) (3.2.2)\n"
     ]
    }
   ],
   "source": [
    "! pip install lifetimes pandas-gbq seaborn"
   ]
  },
  {
   "cell_type": "code",
   "execution_count": 3,
   "metadata": {},
   "outputs": [],
   "source": [
    "import pandas as pd\n",
    "\n",
    "data_bq = pd.read_gbq(f\"SELECT * FROM `{PROJECT_ID}.richemont.rfm`\")"
   ]
  },
  {
   "cell_type": "code",
   "execution_count": 4,
   "metadata": {},
   "outputs": [],
   "source": [
    "data = data_bq.set_index(\"client_id\").astype(float)"
   ]
  },
  {
   "cell_type": "markdown",
   "metadata": {},
   "source": [
    "## Basic Frequency/Recency analysis using the BG/NBD model"
   ]
  },
  {
   "cell_type": "code",
   "execution_count": 5,
   "metadata": {},
   "outputs": [],
   "source": [
    "from lifetimes import BetaGeoFitter"
   ]
  },
  {
   "cell_type": "code",
   "execution_count": 6,
   "metadata": {},
   "outputs": [
    {
     "data": {
      "text/plain": [
       "<lifetimes.BetaGeoFitter: fitted with 52855 subjects, a: 0.48, alpha: 77.55, b: 0.34, r: 0.03>"
      ]
     },
     "execution_count": 6,
     "metadata": {},
     "output_type": "execute_result"
    }
   ],
   "source": [
    "bgf = BetaGeoFitter(penalizer_coef=0.0)\n",
    "bgf.fit(data['frequency'], data['recency'], data['T'])"
   ]
  },
  {
   "cell_type": "code",
   "execution_count": 7,
   "metadata": {},
   "outputs": [
    {
     "data": {
      "text/plain": [
       "<Axes: title={'center': 'Expected Number of Future Purchases for 1 Unit of Time,\\nby Frequency and Recency of a Customer'}, xlabel=\"Customer's Historical Frequency\", ylabel=\"Customer's Recency\">"
      ]
     },
     "execution_count": 7,
     "metadata": {},
     "output_type": "execute_result"
    },
    {
     "data": {
      "image/png": "[encoded data removed]",
      "text/plain": [
       "<Figure size 640x480 with 2 Axes>"
      ]
     },
     "metadata": {},
     "output_type": "display_data"
    }
   ],
   "source": [
    "from lifetimes.plotting import plot_frequency_recency_matrix\n",
    "\n",
    "plot_frequency_recency_matrix(bgf)"
   ]
  },
  {
   "cell_type": "code",
   "execution_count": 8,
   "metadata": {},
   "outputs": [
    {
     "data": {
      "text/plain": [
       "<Axes: title={'center': 'Probability Customer is Alive,\\nby Frequency and Recency of a Customer'}, xlabel=\"Customer's Historical Frequency\", ylabel=\"Customer's Recency\">"
      ]
     },
     "execution_count": 8,
     "metadata": {},
     "output_type": "execute_result"
    },
    {
     "data": {
      "image/png": "[encoded data removed]",
      "text/plain": [
       "<Figure size 640x480 with 2 Axes>"
      ]
     },
     "metadata": {},
     "output_type": "display_data"
    }
   ],
   "source": [
    "from lifetimes.plotting import plot_probability_alive_matrix\n",
    "\n",
    "plot_probability_alive_matrix(bgf)"
   ]
  },
  {
   "cell_type": "code",
   "execution_count": 9,
   "metadata": {},
   "outputs": [
    {
     "data": {
      "text/html": [
       "<div>\n",
       "<style scoped>\n",
       "    .dataframe tbody tr th:only-of-type {\n",
       "        vertical-align: middle;\n",
       "    }\n",
       "\n",
       "    .dataframe tbody tr th {\n",
       "        vertical-align: top;\n",
       "    }\n",
       "\n",
       "    .dataframe thead th {\n",
       "        text-align: right;\n",
       "    }\n",
       "</style>\n",
       "<table border=\"1\" class=\"dataframe\">\n",
       "  <thead>\n",
       "    <tr style=\"text-align: right;\">\n",
       "      <th></th>\n",
       "      <th>frequency</th>\n",
       "      <th>recency</th>\n",
       "      <th>monetary_value</th>\n",
       "      <th>T</th>\n",
       "      <th>predicted_purchases</th>\n",
       "    </tr>\n",
       "    <tr>\n",
       "      <th>client_id</th>\n",
       "      <th></th>\n",
       "      <th></th>\n",
       "      <th></th>\n",
       "      <th></th>\n",
       "      <th></th>\n",
       "    </tr>\n",
       "  </thead>\n",
       "  <tbody>\n",
       "    <tr>\n",
       "      <th>0011i00000nJv5xAAH</th>\n",
       "      <td>18.0</td>\n",
       "      <td>1058.0</td>\n",
       "      <td>44452.428622</td>\n",
       "      <td>1067.0</td>\n",
       "      <td>0.106706</td>\n",
       "    </tr>\n",
       "    <tr>\n",
       "      <th>0011i00000nLRgRAAW</th>\n",
       "      <td>20.0</td>\n",
       "      <td>1026.0</td>\n",
       "      <td>22771.100618</td>\n",
       "      <td>1058.0</td>\n",
       "      <td>0.118102</td>\n",
       "    </tr>\n",
       "    <tr>\n",
       "      <th>0011i00000nL6gLAAS</th>\n",
       "      <td>2.0</td>\n",
       "      <td>4.0</td>\n",
       "      <td>8141.382628</td>\n",
       "      <td>4.0</td>\n",
       "      <td>0.125587</td>\n",
       "    </tr>\n",
       "    <tr>\n",
       "      <th>0011i00000ngSiIAAU</th>\n",
       "      <td>17.0</td>\n",
       "      <td>716.0</td>\n",
       "      <td>18279.316145</td>\n",
       "      <td>751.0</td>\n",
       "      <td>0.135311</td>\n",
       "    </tr>\n",
       "    <tr>\n",
       "      <th>0011i00000nLPKSAA4</th>\n",
       "      <td>21.0</td>\n",
       "      <td>734.0</td>\n",
       "      <td>18555.343688</td>\n",
       "      <td>805.0</td>\n",
       "      <td>0.146379</td>\n",
       "    </tr>\n",
       "  </tbody>\n",
       "</table>\n",
       "</div>"
      ],
      "text/plain": [
       "                    frequency  recency  monetary_value       T  \\\n",
       "client_id                                                        \n",
       "0011i00000nJv5xAAH       18.0   1058.0    44452.428622  1067.0   \n",
       "0011i00000nLRgRAAW       20.0   1026.0    22771.100618  1058.0   \n",
       "0011i00000nL6gLAAS        2.0      4.0     8141.382628     4.0   \n",
       "0011i00000ngSiIAAU       17.0    716.0    18279.316145   751.0   \n",
       "0011i00000nLPKSAA4       21.0    734.0    18555.343688   805.0   \n",
       "\n",
       "                    predicted_purchases  \n",
       "client_id                                \n",
       "0011i00000nJv5xAAH             0.106706  \n",
       "0011i00000nLRgRAAW             0.118102  \n",
       "0011i00000nL6gLAAS             0.125587  \n",
       "0011i00000ngSiIAAU             0.135311  \n",
       "0011i00000nLPKSAA4             0.146379  "
      ]
     },
     "execution_count": 9,
     "metadata": {},
     "output_type": "execute_result"
    }
   ],
   "source": [
    "period = 7 # one week\n",
    "data['predicted_purchases'] = bgf.conditional_expected_number_of_purchases_up_to_time(period, data['frequency'], data['recency'], data['T'])\n",
    "data.sort_values(by='predicted_purchases').tail(5)"
   ]
  },
  {
   "cell_type": "markdown",
   "metadata": {},
   "source": [
    "Great, we can see that the customer who has made 26 purchases, and bought very recently from us, is probably going to buy again in the next period."
   ]
  },
  {
   "cell_type": "markdown",
   "metadata": {},
   "source": [
    "## Estimating customer lifetime value using the Gamma-Gamma model"
   ]
  },
  {
   "cell_type": "code",
   "execution_count": 10,
   "metadata": {},
   "outputs": [
    {
     "data": {
      "text/html": [
       "<div>\n",
       "<style scoped>\n",
       "    .dataframe tbody tr th:only-of-type {\n",
       "        vertical-align: middle;\n",
       "    }\n",
       "\n",
       "    .dataframe tbody tr th {\n",
       "        vertical-align: top;\n",
       "    }\n",
       "\n",
       "    .dataframe thead th {\n",
       "        text-align: right;\n",
       "    }\n",
       "</style>\n",
       "<table border=\"1\" class=\"dataframe\">\n",
       "  <thead>\n",
       "    <tr style=\"text-align: right;\">\n",
       "      <th></th>\n",
       "      <th>frequency</th>\n",
       "      <th>recency</th>\n",
       "      <th>monetary_value</th>\n",
       "      <th>T</th>\n",
       "    </tr>\n",
       "    <tr>\n",
       "      <th>client_id</th>\n",
       "      <th></th>\n",
       "      <th></th>\n",
       "      <th></th>\n",
       "      <th></th>\n",
       "    </tr>\n",
       "  </thead>\n",
       "  <tbody>\n",
       "    <tr>\n",
       "      <th>0011i00000YQyhiAAD</th>\n",
       "      <td>0.0</td>\n",
       "      <td>0.0</td>\n",
       "      <td>4616.771095</td>\n",
       "      <td>0.0</td>\n",
       "    </tr>\n",
       "    <tr>\n",
       "      <th>0011i00000SzZ0zAAF</th>\n",
       "      <td>0.0</td>\n",
       "      <td>0.0</td>\n",
       "      <td>9763.105440</td>\n",
       "      <td>0.0</td>\n",
       "    </tr>\n",
       "    <tr>\n",
       "      <th>0011i00000j8Tv3AAE</th>\n",
       "      <td>0.0</td>\n",
       "      <td>0.0</td>\n",
       "      <td>6419.764463</td>\n",
       "      <td>0.0</td>\n",
       "    </tr>\n",
       "    <tr>\n",
       "      <th>0011i00000S5a6uAAB</th>\n",
       "      <td>0.0</td>\n",
       "      <td>0.0</td>\n",
       "      <td>21322.456265</td>\n",
       "      <td>0.0</td>\n",
       "    </tr>\n",
       "    <tr>\n",
       "      <th>0011i00000nKuKQAA0</th>\n",
       "      <td>0.0</td>\n",
       "      <td>0.0</td>\n",
       "      <td>6990.801006</td>\n",
       "      <td>0.0</td>\n",
       "    </tr>\n",
       "  </tbody>\n",
       "</table>\n",
       "</div>"
      ],
      "text/plain": [
       "                    frequency  recency  monetary_value    T\n",
       "client_id                                                  \n",
       "0011i00000YQyhiAAD        0.0      0.0     4616.771095  0.0\n",
       "0011i00000SzZ0zAAF        0.0      0.0     9763.105440  0.0\n",
       "0011i00000j8Tv3AAE        0.0      0.0     6419.764463  0.0\n",
       "0011i00000S5a6uAAB        0.0      0.0    21322.456265  0.0\n",
       "0011i00000nKuKQAA0        0.0      0.0     6990.801006  0.0"
      ]
     },
     "execution_count": 10,
     "metadata": {},
     "output_type": "execute_result"
    }
   ],
   "source": [
    "summary_with_money_value = data.drop('predicted_purchases', axis=1).copy()\n",
    "summary_with_money_value.head()"
   ]
  },
  {
   "cell_type": "code",
   "execution_count": 11,
   "metadata": {},
   "outputs": [
    {
     "data": {
      "text/html": [
       "<div>\n",
       "<style scoped>\n",
       "    .dataframe tbody tr th:only-of-type {\n",
       "        vertical-align: middle;\n",
       "    }\n",
       "\n",
       "    .dataframe tbody tr th {\n",
       "        vertical-align: top;\n",
       "    }\n",
       "\n",
       "    .dataframe thead th {\n",
       "        text-align: right;\n",
       "    }\n",
       "</style>\n",
       "<table border=\"1\" class=\"dataframe\">\n",
       "  <thead>\n",
       "    <tr style=\"text-align: right;\">\n",
       "      <th></th>\n",
       "      <th>frequency</th>\n",
       "      <th>recency</th>\n",
       "      <th>monetary_value</th>\n",
       "      <th>T</th>\n",
       "    </tr>\n",
       "    <tr>\n",
       "      <th>client_id</th>\n",
       "      <th></th>\n",
       "      <th></th>\n",
       "      <th></th>\n",
       "      <th></th>\n",
       "    </tr>\n",
       "  </thead>\n",
       "  <tbody>\n",
       "    <tr>\n",
       "      <th>0011i00000ngVmFAAU</th>\n",
       "      <td>1.0</td>\n",
       "      <td>34.0</td>\n",
       "      <td>12609.940355</td>\n",
       "      <td>256.0</td>\n",
       "    </tr>\n",
       "    <tr>\n",
       "      <th>0011i00000j8JqOAAU</th>\n",
       "      <td>1.0</td>\n",
       "      <td>35.0</td>\n",
       "      <td>12818.099767</td>\n",
       "      <td>256.0</td>\n",
       "    </tr>\n",
       "    <tr>\n",
       "      <th>0011i00000ngUWyAAM</th>\n",
       "      <td>1.0</td>\n",
       "      <td>310.0</td>\n",
       "      <td>8437.191198</td>\n",
       "      <td>512.0</td>\n",
       "    </tr>\n",
       "    <tr>\n",
       "      <th>0011i00000nLPRRAA4</th>\n",
       "      <td>1.0</td>\n",
       "      <td>410.0</td>\n",
       "      <td>15375.207351</td>\n",
       "      <td>768.0</td>\n",
       "    </tr>\n",
       "    <tr>\n",
       "      <th>0011i00000nJcO9AAK</th>\n",
       "      <td>1.0</td>\n",
       "      <td>1019.0</td>\n",
       "      <td>7608.972236</td>\n",
       "      <td>1024.0</td>\n",
       "    </tr>\n",
       "  </tbody>\n",
       "</table>\n",
       "</div>"
      ],
      "text/plain": [
       "                    frequency  recency  monetary_value       T\n",
       "client_id                                                     \n",
       "0011i00000ngVmFAAU        1.0     34.0    12609.940355   256.0\n",
       "0011i00000j8JqOAAU        1.0     35.0    12818.099767   256.0\n",
       "0011i00000ngUWyAAM        1.0    310.0     8437.191198   512.0\n",
       "0011i00000nLPRRAA4        1.0    410.0    15375.207351   768.0\n",
       "0011i00000nJcO9AAK        1.0   1019.0     7608.972236  1024.0"
      ]
     },
     "execution_count": 11,
     "metadata": {},
     "output_type": "execute_result"
    }
   ],
   "source": [
    "returning_customers_summary = data.drop('predicted_purchases', axis=1)[data['frequency']>0]\n",
    "returning_customers_summary.head()"
   ]
  },
  {
   "cell_type": "code",
   "execution_count": 12,
   "metadata": {},
   "outputs": [
    {
     "data": {
      "text/html": [
       "<div>\n",
       "<style scoped>\n",
       "    .dataframe tbody tr th:only-of-type {\n",
       "        vertical-align: middle;\n",
       "    }\n",
       "\n",
       "    .dataframe tbody tr th {\n",
       "        vertical-align: top;\n",
       "    }\n",
       "\n",
       "    .dataframe thead th {\n",
       "        text-align: right;\n",
       "    }\n",
       "</style>\n",
       "<table border=\"1\" class=\"dataframe\">\n",
       "  <thead>\n",
       "    <tr style=\"text-align: right;\">\n",
       "      <th></th>\n",
       "      <th>monetary_value</th>\n",
       "      <th>frequency</th>\n",
       "    </tr>\n",
       "  </thead>\n",
       "  <tbody>\n",
       "    <tr>\n",
       "      <th>monetary_value</th>\n",
       "      <td>1.000000</td>\n",
       "      <td>0.057115</td>\n",
       "    </tr>\n",
       "    <tr>\n",
       "      <th>frequency</th>\n",
       "      <td>0.057115</td>\n",
       "      <td>1.000000</td>\n",
       "    </tr>\n",
       "  </tbody>\n",
       "</table>\n",
       "</div>"
      ],
      "text/plain": [
       "                monetary_value  frequency\n",
       "monetary_value        1.000000   0.057115\n",
       "frequency             0.057115   1.000000"
      ]
     },
     "execution_count": 12,
     "metadata": {},
     "output_type": "execute_result"
    }
   ],
   "source": [
    "returning_customers_summary[['monetary_value', 'frequency']].corr()"
   ]
  },
  {
   "cell_type": "markdown",
   "metadata": {},
   "source": [
    "At this point we can train our Gamma-Gamma submodel and predict the conditional, expected average lifetime value of our customers."
   ]
  },
  {
   "cell_type": "code",
   "execution_count": 13,
   "metadata": {},
   "outputs": [
    {
     "data": {
      "text/plain": [
       "<lifetimes.GammaGammaFitter: fitted with 2767 subjects, p: 100.52, q: 3.89, v: 384.73>"
      ]
     },
     "execution_count": 13,
     "metadata": {},
     "output_type": "execute_result"
    }
   ],
   "source": [
    "from lifetimes import GammaGammaFitter\n",
    "\n",
    "ggf = GammaGammaFitter(penalizer_coef = 0)\n",
    "ggf.fit(returning_customers_summary['frequency'],\n",
    "        returning_customers_summary['monetary_value'])"
   ]
  },
  {
   "cell_type": "code",
   "execution_count": 14,
   "metadata": {},
   "outputs": [
    {
     "data": {
      "text/plain": [
       "client_id\n",
       "0011i00000YQyhiAAD    13376.792957\n",
       "0011i00000SzZ0zAAF    13376.792957\n",
       "0011i00000j8Tv3AAE    13376.792957\n",
       "0011i00000S5a6uAAB    13376.792957\n",
       "0011i00000nKuKQAA0    13376.792957\n",
       "                          ...     \n",
       "0011i00000ngSiIAAU    18271.036048\n",
       "0011i00000nKE81AAG    18954.070190\n",
       "0011i00000nJv5xAAH    44402.854738\n",
       "0011i00000nLRgRAAW    22757.610694\n",
       "0011i00000nLPKSAA4    18548.261078\n",
       "Length: 52855, dtype: float64"
      ]
     },
     "execution_count": 14,
     "metadata": {},
     "output_type": "execute_result"
    }
   ],
   "source": [
    "ggf.conditional_expected_average_profit(\n",
    "        summary_with_money_value['frequency'],\n",
    "        summary_with_money_value['monetary_value']\n",
    "    )"
   ]
  },
  {
   "cell_type": "code",
   "execution_count": 15,
   "metadata": {},
   "outputs": [
    {
     "name": "stdout",
     "output_type": "stream",
     "text": [
      "Expected conditional average profit: 13407.637463549823, Average profit: 13971.305612615923\n"
     ]
    }
   ],
   "source": [
    "print(\"Expected conditional average profit: %s, Average profit: %s\" % (\n",
    "    ggf.conditional_expected_average_profit(\n",
    "        summary_with_money_value['frequency'],\n",
    "        summary_with_money_value['monetary_value']\n",
    "    ).mean(),\n",
    "    summary_with_money_value[summary_with_money_value['frequency']>0]['monetary_value'].mean()\n",
    "))"
   ]
  },
  {
   "cell_type": "code",
   "execution_count": 16,
   "metadata": {},
   "outputs": [],
   "source": [
    "avg_profit = ggf.conditional_expected_average_profit(\n",
    "    summary_with_money_value['frequency'],\n",
    "    summary_with_money_value['monetary_value']\n",
    ")"
   ]
  },
  {
   "cell_type": "code",
   "execution_count": 19,
   "metadata": {},
   "outputs": [
    {
     "data": {
      "text/plain": [
       "client_id\n",
       "0011i00000YQyhiAAD    13376.792957\n",
       "0011i00000SzZ0zAAF    13376.792957\n",
       "0011i00000j8Tv3AAE    13376.792957\n",
       "0011i00000S5a6uAAB    13376.792957\n",
       "0011i00000nKuKQAA0    13376.792957\n",
       "                          ...     \n",
       "0011i00000ngSiIAAU    18271.036048\n",
       "0011i00000nKE81AAG    18954.070190\n",
       "0011i00000nJv5xAAH    44402.854738\n",
       "0011i00000nLRgRAAW    22757.610694\n",
       "0011i00000nLPKSAA4    18548.261078\n",
       "Length: 52855, dtype: float64"
      ]
     },
     "execution_count": 19,
     "metadata": {},
     "output_type": "execute_result"
    }
   ],
   "source": [
    "avg_profit"
   ]
  },
  {
   "cell_type": "code",
   "execution_count": 17,
   "metadata": {},
   "outputs": [],
   "source": [
    "import seaborn as sns"
   ]
  },
  {
   "cell_type": "code",
   "execution_count": 22,
   "metadata": {},
   "outputs": [
    {
     "data": {
      "text/plain": [
       "<seaborn.axisgrid.FacetGrid at 0x137e6dbd0>"
      ]
     },
     "execution_count": 22,
     "metadata": {},
     "output_type": "execute_result"
    },
    {
     "data": {
      "image/png": "[encoded data removed]",
      "text/plain": [
       "<Figure size 500x500 with 1 Axes>"
      ]
     },
     "metadata": {},
     "output_type": "display_data"
    }
   ],
   "source": [
    "sns.displot(avg_profit.loc[returning_customers_summary.index])"
   ]
  },
  {
   "cell_type": "code",
   "execution_count": 26,
   "metadata": {},
   "outputs": [
    {
     "name": "stdout",
     "output_type": "stream",
     "text": [
      "client_id\n",
      "0011i00000YQyhiAAD    983.908958\n",
      "0011i00000SzZ0zAAF    983.908958\n",
      "0011i00000j8Tv3AAE    983.908958\n",
      "0011i00000S5a6uAAB    983.908958\n",
      "0011i00000nKuKQAA0    983.908958\n",
      "0011i00000YQtMyAAL    983.908958\n",
      "0011i00000S5ZqpAAF    983.908958\n",
      "0011i00000YUWLnAAP    983.908958\n",
      "0011i00000nKuK3AAK    983.908958\n",
      "0011i00000SzZ15AAF    983.908958\n",
      "Name: clv, dtype: float64\n"
     ]
    }
   ],
   "source": [
    "bgf.fit(summary_with_money_value['frequency'], summary_with_money_value['recency'], summary_with_money_value['T'])\n",
    "\n",
    "print(ggf.customer_lifetime_value(\n",
    "    bgf, #the model to use to predict the number of future transactions\n",
    "    summary_with_money_value['frequency'],\n",
    "    summary_with_money_value['recency'],\n",
    "    summary_with_money_value['T'],\n",
    "    summary_with_money_value['monetary_value'],\n",
    "    # time=365, # months\n",
    "    discount_rate=0# .01 # monthly discount rate ~ 12.7% annually\n",
    ").head(10))"
   ]
  },
  {
   "cell_type": "code",
   "execution_count": 31,
   "metadata": {},
   "outputs": [
    {
     "data": {
      "text/plain": [
       "frequency                 0.000000\n",
       "recency                   0.000000\n",
       "monetary_value         4616.771095\n",
       "T                         0.000000\n",
       "predicted_purchases       0.002554\n",
       "Name: 0011i00000YQyhiAAD, dtype: float64"
      ]
     },
     "execution_count": 31,
     "metadata": {},
     "output_type": "execute_result"
    }
   ],
   "source": [
    "data.loc[\"0011i00000YQyhiAAD\"]"
   ]
  },
  {
   "cell_type": "code",
   "execution_count": null,
   "metadata": {},
   "outputs": [],
   "source": []
  }
 ],
 "metadata": {
  "kernelspec": {
   "display_name": ".venv",
   "language": "python",
   "name": "python3"
  },
  "language_info": {
   "codemirror_mode": {
    "name": "ipython",
    "version": 3
   },
   "file_extension": ".py",
   "mimetype": "text/x-python",
   "name": "python",
   "nbconvert_exporter": "python",
   "pygments_lexer": "ipython3",
   "version": "3.10.2"
  },
  "orig_nbformat": 4
 },
 "nbformat": 4,
 "nbformat_minor": 2
}
